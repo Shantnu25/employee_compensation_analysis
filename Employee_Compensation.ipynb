{
  "nbformat": 4,
  "nbformat_minor": 0,
  "metadata": {
    "colab": {
      "name": "Employee_Compensation.ipynb",
      "provenance": []
    },
    "kernelspec": {
      "display_name": "Python 3",
      "language": "python",
      "name": "python3"
    },
    "language_info": {
      "codemirror_mode": {
        "name": "ipython",
        "version": 3
      },
      "file_extension": ".py",
      "mimetype": "text/x-python",
      "name": "python",
      "nbconvert_exporter": "python",
      "pygments_lexer": "ipython3",
      "version": "3.7.3"
    }
  },
  "cells": [
    {
      "cell_type": "code",
      "metadata": {
        "colab": {
          "base_uri": "https://localhost:8080/"
        },
        "id": "TJ-pMx75HB0e",
        "outputId": "13c1a997-13e6-4de4-b554-c965b999a52f"
      },
      "source": [
        "#Using Goole Colab : Mounting google drive\n",
        "from google.colab import drive\n",
        "drive.mount('/content/drive')"
      ],
      "execution_count": 187,
      "outputs": [
        {
          "output_type": "stream",
          "text": [
            "Drive already mounted at /content/drive; to attempt to forcibly remount, call drive.mount(\"/content/drive\", force_remount=True).\n"
          ],
          "name": "stdout"
        }
      ]
    },
    {
      "cell_type": "code",
      "metadata": {
        "id": "SzCyR35AG3EP",
        "colab": {
          "base_uri": "https://localhost:8080/"
        },
        "outputId": "a510120b-29c4-4739-e600-0a4db943a204"
      },
      "source": [
        "# import the modules\n",
        "import pandas as pd\n",
        "import numpy as np\n",
        "import matplotlib.pyplot as plt\n",
        "import seaborn as sns\n",
        "from sklearn.linear_model import LinearRegression, Lasso, Ridge\n",
        "from sklearn.model_selection import train_test_split, cross_val_score\n",
        "from sklearn.metrics import mean_squared_error, r2_score\n",
        "from sklearn.preprocessing import PolynomialFeatures, LabelEncoder,LabelBinarizer\n",
        "from sklearn.model_selection import GridSearchCV, RandomizedSearchCV\n",
        "from sklearn.pipeline import make_pipeline\n",
        "\n",
        "\n",
        "import warnings\n",
        "warnings.filterwarnings('ignore')\n",
        "\n",
        "print('Modules Imported')"
      ],
      "execution_count": 188,
      "outputs": [
        {
          "output_type": "stream",
          "text": [
            "Modules Imported\n"
          ],
          "name": "stdout"
        }
      ]
    },
    {
      "cell_type": "markdown",
      "metadata": {
        "id": "TBCxNmj3HZ-Z"
      },
      "source": [
        "##Problem Statement\n",
        "```\n",
        "The San Francisco Controller's Office maintains a database of the salary and benefits paid to City employees since fiscal year 2013. The problem here is to predict the Total Compensation.\n",
        "```"
      ]
    },
    {
      "cell_type": "code",
      "metadata": {
        "colab": {
          "base_uri": "https://localhost:8080/",
          "height": 426
        },
        "id": "jz0Z9YHTHho-",
        "outputId": "21f377b3-00c0-4718-b9f0-02ce74fda3d1"
      },
      "source": [
        "#Feature Description\n",
        "feat_desc= pd.read_excel('/content/drive/MyDrive/Employee Compensation Analysis/Data Dictionary.xlsx')\n",
        "feat_desc"
      ],
      "execution_count": 189,
      "outputs": [
        {
          "output_type": "execute_result",
          "data": {
            "text/html": [
              "<div>\n",
              "<style scoped>\n",
              "    .dataframe tbody tr th:only-of-type {\n",
              "        vertical-align: middle;\n",
              "    }\n",
              "\n",
              "    .dataframe tbody tr th {\n",
              "        vertical-align: top;\n",
              "    }\n",
              "\n",
              "    .dataframe thead th {\n",
              "        text-align: right;\n",
              "    }\n",
              "</style>\n",
              "<table border=\"1\" class=\"dataframe\">\n",
              "  <thead>\n",
              "    <tr style=\"text-align: right;\">\n",
              "      <th></th>\n",
              "      <th>Feature</th>\n",
              "      <th>Description</th>\n",
              "    </tr>\n",
              "  </thead>\n",
              "  <tbody>\n",
              "    <tr>\n",
              "      <th>0</th>\n",
              "      <td>Year Type</td>\n",
              "      <td>Fiscal (July through June) or Calendar (Januar...</td>\n",
              "    </tr>\n",
              "    <tr>\n",
              "      <th>1</th>\n",
              "      <td>Year</td>\n",
              "      <td>An accounting period of 12 months. The City an...</td>\n",
              "    </tr>\n",
              "    <tr>\n",
              "      <th>2</th>\n",
              "      <td>Organization Group</td>\n",
              "      <td>Org Group is a group of Departments. For examp...</td>\n",
              "    </tr>\n",
              "    <tr>\n",
              "      <th>3</th>\n",
              "      <td>Department Code</td>\n",
              "      <td>Departments are the primary organizational uni...</td>\n",
              "    </tr>\n",
              "    <tr>\n",
              "      <th>4</th>\n",
              "      <td>Union</td>\n",
              "      <td>Unions represent employees in collective barga...</td>\n",
              "    </tr>\n",
              "    <tr>\n",
              "      <th>5</th>\n",
              "      <td>Job Family Code</td>\n",
              "      <td>Job Family combines similar Jobs into meaningf...</td>\n",
              "    </tr>\n",
              "    <tr>\n",
              "      <th>6</th>\n",
              "      <td>Job Code</td>\n",
              "      <td>Jobs are defined by the Human Resources classi...</td>\n",
              "    </tr>\n",
              "    <tr>\n",
              "      <th>7</th>\n",
              "      <td>Employee Identifier</td>\n",
              "      <td>Each distinct number in the “Employee Identifi...</td>\n",
              "    </tr>\n",
              "    <tr>\n",
              "      <th>8</th>\n",
              "      <td>Retirement</td>\n",
              "      <td>City contributions to employee retirement plans.</td>\n",
              "    </tr>\n",
              "    <tr>\n",
              "      <th>9</th>\n",
              "      <td>Health and Dental</td>\n",
              "      <td>City-paid premiums to health and dental insura...</td>\n",
              "    </tr>\n",
              "    <tr>\n",
              "      <th>10</th>\n",
              "      <td>Other Benefits</td>\n",
              "      <td>Mandatory benefits paid on behalf of employees...</td>\n",
              "    </tr>\n",
              "    <tr>\n",
              "      <th>11</th>\n",
              "      <td>Total Compensation</td>\n",
              "      <td>The sum of all salaries and benefits paid to C...</td>\n",
              "    </tr>\n",
              "  </tbody>\n",
              "</table>\n",
              "</div>"
            ],
            "text/plain": [
              "                Feature                                        Description\n",
              "0             Year Type  Fiscal (July through June) or Calendar (Januar...\n",
              "1                  Year  An accounting period of 12 months. The City an...\n",
              "2    Organization Group  Org Group is a group of Departments. For examp...\n",
              "3       Department Code  Departments are the primary organizational uni...\n",
              "4                 Union  Unions represent employees in collective barga...\n",
              "5       Job Family Code  Job Family combines similar Jobs into meaningf...\n",
              "6              Job Code  Jobs are defined by the Human Resources classi...\n",
              "7   Employee Identifier  Each distinct number in the “Employee Identifi...\n",
              "8            Retirement   City contributions to employee retirement plans.\n",
              "9     Health and Dental  City-paid premiums to health and dental insura...\n",
              "10       Other Benefits  Mandatory benefits paid on behalf of employees...\n",
              "11   Total Compensation  The sum of all salaries and benefits paid to C..."
            ]
          },
          "metadata": {
            "tags": []
          },
          "execution_count": 189
        }
      ]
    },
    {
      "cell_type": "markdown",
      "metadata": {
        "id": "7QrkCf6JG3Ea"
      },
      "source": [
        "### Define the following functions as per the description, so that they can be called later to perform the tasks."
      ]
    },
    {
      "cell_type": "code",
      "metadata": {
        "id": "37PH87-oG3Ec"
      },
      "source": [
        "# to treat missing values\n",
        "\n",
        "def treat_null_values(df, method):\n",
        "    \"\"\"Treats the missing values in the dataframe.\n",
        "    \n",
        "    This function accepts a dataframe and the method to treat the missing value.\n",
        "    Depending on the method passed, impute/drop the missing values.\n",
        "        \n",
        "    Keyword arguments:\n",
        "    df -- pandas dataframe for which we want to treat the missing values\n",
        "    method -- method to treat the missing values\n",
        "    \"\"\"\n",
        "    if (method=='drop'):\n",
        "      df.dropna(inplace=True)\n",
        "    elif (method=='backfill'):\n",
        "      df.fillna(method='backfill', inplace=True)\n",
        "    else:\n",
        "      df.fillna(method='ffill', inplace=True)     \n",
        "    "
      ],
      "execution_count": 190,
      "outputs": []
    },
    {
      "cell_type": "code",
      "metadata": {
        "id": "t_q3vB5zG3Ed"
      },
      "source": [
        "\n",
        "# to seperate the numerical and categorical columns\n",
        "\n",
        "def num_and_cat_columns(df):\n",
        "    \"\"\"Return seperate list of numerical & categorical columns.\n",
        "    \n",
        "    This function accepts a dataframe and returns two lists,\n",
        "    one containing the names of numerical columns(num_cols) and the other categorical columns(cat_cols).\n",
        "        \n",
        "    Keyword arguments:\n",
        "    df -- pandas dataframe for which we want the list of columns\n",
        "    \n",
        "    Returns:\n",
        "    num_cols -- list of numerical columns\n",
        "    cat_cols -- list of categorical columns\n",
        "    \"\"\"\n",
        "    num_cols = df.columns(include=['int64', 'float64'])\n",
        "    print(num_cols)\n",
        "    cat_cols=  df.columns(include=['object'])\n",
        "    print(cat_cols)\n",
        "    "
      ],
      "execution_count": 191,
      "outputs": []
    },
    {
      "cell_type": "code",
      "metadata": {
        "id": "KFW9B9hPG3Ee"
      },
      "source": [
        "# to encode the categorical column so as to convert them to numeric.\n",
        "    \n",
        "def encode_category(df, enc, col, method):\n",
        "    \"\"\"Encodes the categorical columns of the dataframe.\n",
        "    \n",
        "    This function accepts a dataframe and columns to be encoded along with the method to be used for encoding.\n",
        "        \n",
        "    Keyword arguments:\n",
        "    df -- pandas dataframe for which we want to encode the columns -- this dataframe would be transformed\n",
        "    enc -- the encoder - fitted on the train data\n",
        "    col -- list of columns that is to be encoded\n",
        "    method -- method to be used while encoding\n",
        "    \n",
        "    Returns:\n",
        "    df1 -- the encoded dataframe\n",
        "    \"\"\"\n",
        "    if (method == 'Label'):\n",
        "      df[col]=enc.fit_transform(df[col])\n",
        "    else:\n",
        "      df[col]=enc.fit_transform(df[col])\n",
        "\n",
        "    "
      ],
      "execution_count": 192,
      "outputs": []
    },
    {
      "cell_type": "code",
      "metadata": {
        "id": "u5a3DyT7G3Eg"
      },
      "source": [
        "# to clean the dollar sign from the currency column & convert it to float.\n",
        "    \n",
        "def clean_dollar(df, col):\n",
        "    \"\"\"Removes \"$\" sign from a column & converts it to float.\n",
        "    \n",
        "    This function accepts a dataframe and columns with $ sign to be converted to float.\n",
        "        \n",
        "    Keyword arguments:\n",
        "    df -- pandas dataframe for which we want to encode the columns\n",
        "    col -- list of columns that is to be converted\n",
        "    \n",
        "    Returns:\n",
        "    df -- the converted dataframe\n",
        "    \"\"\"\n",
        "    df[col]=df[col].str.replace('$','').astype(float)\n",
        "    return df[col]    \n"
      ],
      "execution_count": 193,
      "outputs": []
    },
    {
      "cell_type": "code",
      "metadata": {
        "id": "mSvIkP8-G3El"
      },
      "source": [
        "# to check outliers using box plot\n",
        "\n",
        "def check_outliers(df, col, cat):\n",
        "    \"\"\"Check outliers through boxplot.\n",
        "    \n",
        "    This function plots and displays the boxplot of the feature col vs all the categories defined. \n",
        "    Check for any outlier present.\n",
        "        \n",
        "    Keyword arguments:\n",
        "    df -- pandas dataframe which has the data\n",
        "    col -- the feature for which we want to plot the boxplot\n",
        "    cat -- features (categorical) by which we want to check the outliers (for each category in each feature)\n",
        "    \"\"\"\n",
        "    sns.boxplot( x=df[cat],y=df[col] );\n",
        "\n",
        "    "
      ],
      "execution_count": 194,
      "outputs": []
    },
    {
      "cell_type": "markdown",
      "metadata": {
        "id": "Tyio2pOaG3En"
      },
      "source": [
        "### Read the dataset and look at the dataset. \n",
        "\n"
      ]
    },
    {
      "cell_type": "code",
      "metadata": {
        "id": "UOuzLq6nG3Ep"
      },
      "source": [
        "# Read the dataset and extract the test  and train data separately\n",
        "df_train=pd.read_csv('/content/drive/MyDrive/Employee Compensation Analysis/train.csv')\n",
        "df_test=pd.read_csv('/content/drive/MyDrive/Employee Compensation Analysis/test.csv')\n",
        "\n",
        "# Dropping Ids\n",
        "train_id = df_train['Id']\n",
        "\n",
        "df_train.drop(['Id'], axis=1, inplace=True)\n"
      ],
      "execution_count": 195,
      "outputs": []
    },
    {
      "cell_type": "code",
      "metadata": {
        "colab": {
          "base_uri": "https://localhost:8080/",
          "height": 449
        },
        "id": "FzO2FWEvH-NW",
        "outputId": "b321350b-81ef-4c63-a265-5c1cd862b030"
      },
      "source": [
        "# Examine first 5 rows\n",
        "df_train.head()"
      ],
      "execution_count": 196,
      "outputs": [
        {
          "output_type": "execute_result",
          "data": {
            "text/html": [
              "<div>\n",
              "<style scoped>\n",
              "    .dataframe tbody tr th:only-of-type {\n",
              "        vertical-align: middle;\n",
              "    }\n",
              "\n",
              "    .dataframe tbody tr th {\n",
              "        vertical-align: top;\n",
              "    }\n",
              "\n",
              "    .dataframe thead th {\n",
              "        text-align: right;\n",
              "    }\n",
              "</style>\n",
              "<table border=\"1\" class=\"dataframe\">\n",
              "  <thead>\n",
              "    <tr style=\"text-align: right;\">\n",
              "      <th></th>\n",
              "      <th>Year Type</th>\n",
              "      <th>Year</th>\n",
              "      <th>Organization Group</th>\n",
              "      <th>Department</th>\n",
              "      <th>Union</th>\n",
              "      <th>Job Family</th>\n",
              "      <th>Job</th>\n",
              "      <th>Employee Identifier</th>\n",
              "      <th>Retirement</th>\n",
              "      <th>Health and Dental</th>\n",
              "      <th>Other Benefits</th>\n",
              "      <th>Total Compensation</th>\n",
              "    </tr>\n",
              "  </thead>\n",
              "  <tbody>\n",
              "    <tr>\n",
              "      <th>0</th>\n",
              "      <td>Calendar</td>\n",
              "      <td>2018</td>\n",
              "      <td>Community Health</td>\n",
              "      <td>NaN</td>\n",
              "      <td>Prof &amp; Tech Eng, Local 21</td>\n",
              "      <td>Information Systems</td>\n",
              "      <td>IS Business Analyst-Principal</td>\n",
              "      <td>8594384</td>\n",
              "      <td>$0.0</td>\n",
              "      <td>$13527.66</td>\n",
              "      <td>$0.0</td>\n",
              "      <td>0.00</td>\n",
              "    </tr>\n",
              "    <tr>\n",
              "      <th>1</th>\n",
              "      <td>Calendar</td>\n",
              "      <td>2014</td>\n",
              "      <td>Public Works, Transportation &amp; Commerce</td>\n",
              "      <td>MTA Municipal Transprtn Agncy</td>\n",
              "      <td>SEIU - Miscellaneous, Local 1021</td>\n",
              "      <td>Public Service Aide</td>\n",
              "      <td>Publ Svc Aide-Asst To Prof</td>\n",
              "      <td>22142</td>\n",
              "      <td>$0.0</td>\n",
              "      <td>$3995.56</td>\n",
              "      <td>$875.27</td>\n",
              "      <td>16176.35</td>\n",
              "    </tr>\n",
              "    <tr>\n",
              "      <th>2</th>\n",
              "      <td>Fiscal</td>\n",
              "      <td>2018</td>\n",
              "      <td>General City Responsibilities</td>\n",
              "      <td>NaN</td>\n",
              "      <td>SEIU, Local 1021, Misc</td>\n",
              "      <td>Payroll, Billing &amp; Accounting</td>\n",
              "      <td>Senior Account Clerk</td>\n",
              "      <td>8512172</td>\n",
              "      <td>$0.0</td>\n",
              "      <td>$0.0</td>\n",
              "      <td>$0.0</td>\n",
              "      <td>248.30</td>\n",
              "    </tr>\n",
              "    <tr>\n",
              "      <th>3</th>\n",
              "      <td>Fiscal</td>\n",
              "      <td>2015</td>\n",
              "      <td>Community Health</td>\n",
              "      <td>DPH Public Health</td>\n",
              "      <td>SEIU - Miscellaneous, Local 1021</td>\n",
              "      <td>Purchasing &amp; Storekeeping</td>\n",
              "      <td>Sr Materials &amp; Supplies Sprv</td>\n",
              "      <td>47593</td>\n",
              "      <td>$11671.59</td>\n",
              "      <td>$10680.55</td>\n",
              "      <td>$4400.24</td>\n",
              "      <td>80020.86</td>\n",
              "    </tr>\n",
              "    <tr>\n",
              "      <th>4</th>\n",
              "      <td>Fiscal</td>\n",
              "      <td>2014</td>\n",
              "      <td>Community Health</td>\n",
              "      <td>DPH Public Health</td>\n",
              "      <td>SEIU - Miscellaneous, Local 1021</td>\n",
              "      <td>Hospital Administration</td>\n",
              "      <td>Medical Records Technician</td>\n",
              "      <td>47549</td>\n",
              "      <td>$14617.66</td>\n",
              "      <td>$12464.61</td>\n",
              "      <td>$5562.09</td>\n",
              "      <td>101207.38</td>\n",
              "    </tr>\n",
              "  </tbody>\n",
              "</table>\n",
              "</div>"
            ],
            "text/plain": [
              "  Year Type  Year  ... Other Benefits Total Compensation\n",
              "0  Calendar  2018  ...           $0.0               0.00\n",
              "1  Calendar  2014  ...        $875.27           16176.35\n",
              "2    Fiscal  2018  ...           $0.0             248.30\n",
              "3    Fiscal  2015  ...       $4400.24           80020.86\n",
              "4    Fiscal  2014  ...       $5562.09          101207.38\n",
              "\n",
              "[5 rows x 12 columns]"
            ]
          },
          "metadata": {
            "tags": []
          },
          "execution_count": 196
        }
      ]
    },
    {
      "cell_type": "code",
      "metadata": {
        "colab": {
          "base_uri": "https://localhost:8080/"
        },
        "id": "v6p-BizKIF6W",
        "outputId": "f64c5887-2570-4e07-ef99-a74e064f2b80"
      },
      "source": [
        "# No. of rows and columns\n",
        "print(df_train.shape)\n",
        "\n",
        "# Examine the column names\n",
        "print(df_train.columns)\n"
      ],
      "execution_count": 197,
      "outputs": [
        {
          "output_type": "stream",
          "text": [
            "(567103, 12)\n",
            "Index(['Year Type', 'Year', 'Organization Group', 'Department', 'Union',\n",
            "       'Job Family', 'Job', 'Employee Identifier', 'Retirement',\n",
            "       'Health and Dental', 'Other Benefits', 'Total Compensation'],\n",
            "      dtype='object')\n"
          ],
          "name": "stdout"
        }
      ]
    },
    {
      "cell_type": "code",
      "metadata": {
        "colab": {
          "base_uri": "https://localhost:8080/"
        },
        "id": "ss-f1vVEIK5l",
        "outputId": "1bab3db0-bc61-4507-e64a-79180dac92c4"
      },
      "source": [
        "# Examine no. of non null entries, and column datatype\n",
        "df_train.info()"
      ],
      "execution_count": 198,
      "outputs": [
        {
          "output_type": "stream",
          "text": [
            "<class 'pandas.core.frame.DataFrame'>\n",
            "RangeIndex: 567103 entries, 0 to 567102\n",
            "Data columns (total 12 columns):\n",
            " #   Column               Non-Null Count   Dtype  \n",
            "---  ------               --------------   -----  \n",
            " 0   Year Type            567103 non-null  object \n",
            " 1   Year                 567103 non-null  int64  \n",
            " 2   Organization Group   567103 non-null  object \n",
            " 3   Department           272038 non-null  object \n",
            " 4   Union                566758 non-null  object \n",
            " 5   Job Family           567103 non-null  object \n",
            " 6   Job                  567100 non-null  object \n",
            " 7   Employee Identifier  567103 non-null  int64  \n",
            " 8   Retirement           567103 non-null  object \n",
            " 9   Health and Dental    567103 non-null  object \n",
            " 10  Other Benefits       567103 non-null  object \n",
            " 11  Total Compensation   567103 non-null  float64\n",
            "dtypes: float64(1), int64(2), object(9)\n",
            "memory usage: 51.9+ MB\n"
          ],
          "name": "stdout"
        }
      ]
    },
    {
      "cell_type": "code",
      "metadata": {
        "colab": {
          "base_uri": "https://localhost:8080/",
          "height": 300
        },
        "id": "Zk2gHwyMIQur",
        "outputId": "99471e78-2873-401d-ac9d-e73f8a69b54d"
      },
      "source": [
        "#Calculate Summary Statistics\n",
        "df_train.describe()"
      ],
      "execution_count": 199,
      "outputs": [
        {
          "output_type": "execute_result",
          "data": {
            "text/html": [
              "<div>\n",
              "<style scoped>\n",
              "    .dataframe tbody tr th:only-of-type {\n",
              "        vertical-align: middle;\n",
              "    }\n",
              "\n",
              "    .dataframe tbody tr th {\n",
              "        vertical-align: top;\n",
              "    }\n",
              "\n",
              "    .dataframe thead th {\n",
              "        text-align: right;\n",
              "    }\n",
              "</style>\n",
              "<table border=\"1\" class=\"dataframe\">\n",
              "  <thead>\n",
              "    <tr style=\"text-align: right;\">\n",
              "      <th></th>\n",
              "      <th>Year</th>\n",
              "      <th>Employee Identifier</th>\n",
              "      <th>Total Compensation</th>\n",
              "    </tr>\n",
              "  </thead>\n",
              "  <tbody>\n",
              "    <tr>\n",
              "      <th>count</th>\n",
              "      <td>567103.000000</td>\n",
              "      <td>5.671030e+05</td>\n",
              "      <td>567103.000000</td>\n",
              "    </tr>\n",
              "    <tr>\n",
              "      <th>mean</th>\n",
              "      <td>2016.718106</td>\n",
              "      <td>4.502940e+06</td>\n",
              "      <td>82952.016002</td>\n",
              "    </tr>\n",
              "    <tr>\n",
              "      <th>std</th>\n",
              "      <td>1.983861</td>\n",
              "      <td>4.306688e+06</td>\n",
              "      <td>74338.078988</td>\n",
              "    </tr>\n",
              "    <tr>\n",
              "      <th>min</th>\n",
              "      <td>2013.000000</td>\n",
              "      <td>1.000000e+00</td>\n",
              "      <td>-42615.240000</td>\n",
              "    </tr>\n",
              "    <tr>\n",
              "      <th>25%</th>\n",
              "      <td>2015.000000</td>\n",
              "      <td>2.959550e+04</td>\n",
              "      <td>6946.620000</td>\n",
              "    </tr>\n",
              "    <tr>\n",
              "      <th>50%</th>\n",
              "      <td>2017.000000</td>\n",
              "      <td>8.497001e+06</td>\n",
              "      <td>78706.040000</td>\n",
              "    </tr>\n",
              "    <tr>\n",
              "      <th>75%</th>\n",
              "      <td>2018.000000</td>\n",
              "      <td>8.556148e+06</td>\n",
              "      <td>133852.340000</td>\n",
              "    </tr>\n",
              "    <tr>\n",
              "      <th>max</th>\n",
              "      <td>2020.000000</td>\n",
              "      <td>1.223014e+07</td>\n",
              "      <td>807175.090000</td>\n",
              "    </tr>\n",
              "  </tbody>\n",
              "</table>\n",
              "</div>"
            ],
            "text/plain": [
              "                Year  Employee Identifier  Total Compensation\n",
              "count  567103.000000         5.671030e+05       567103.000000\n",
              "mean     2016.718106         4.502940e+06        82952.016002\n",
              "std         1.983861         4.306688e+06        74338.078988\n",
              "min      2013.000000         1.000000e+00       -42615.240000\n",
              "25%      2015.000000         2.959550e+04         6946.620000\n",
              "50%      2017.000000         8.497001e+06        78706.040000\n",
              "75%      2018.000000         8.556148e+06       133852.340000\n",
              "max      2020.000000         1.223014e+07       807175.090000"
            ]
          },
          "metadata": {
            "tags": []
          },
          "execution_count": 199
        }
      ]
    },
    {
      "cell_type": "code",
      "metadata": {
        "colab": {
          "base_uri": "https://localhost:8080/",
          "height": 210
        },
        "id": "KULwyf3qwQf0",
        "outputId": "3ef0ead0-e5e6-4ebb-a9e2-5683769559cd"
      },
      "source": [
        "#Describing categorical data - 'object'\n",
        "df_train.describe(include='object')"
      ],
      "execution_count": 200,
      "outputs": [
        {
          "output_type": "execute_result",
          "data": {
            "text/html": [
              "<div>\n",
              "<style scoped>\n",
              "    .dataframe tbody tr th:only-of-type {\n",
              "        vertical-align: middle;\n",
              "    }\n",
              "\n",
              "    .dataframe tbody tr th {\n",
              "        vertical-align: top;\n",
              "    }\n",
              "\n",
              "    .dataframe thead th {\n",
              "        text-align: right;\n",
              "    }\n",
              "</style>\n",
              "<table border=\"1\" class=\"dataframe\">\n",
              "  <thead>\n",
              "    <tr style=\"text-align: right;\">\n",
              "      <th></th>\n",
              "      <th>Year Type</th>\n",
              "      <th>Organization Group</th>\n",
              "      <th>Department</th>\n",
              "      <th>Union</th>\n",
              "      <th>Job Family</th>\n",
              "      <th>Job</th>\n",
              "      <th>Retirement</th>\n",
              "      <th>Health and Dental</th>\n",
              "      <th>Other Benefits</th>\n",
              "    </tr>\n",
              "  </thead>\n",
              "  <tbody>\n",
              "    <tr>\n",
              "      <th>count</th>\n",
              "      <td>567103</td>\n",
              "      <td>567103</td>\n",
              "      <td>272038</td>\n",
              "      <td>566758</td>\n",
              "      <td>567103</td>\n",
              "      <td>567100</td>\n",
              "      <td>567103</td>\n",
              "      <td>567103</td>\n",
              "      <td>567103</td>\n",
              "    </tr>\n",
              "    <tr>\n",
              "      <th>unique</th>\n",
              "      <td>2</td>\n",
              "      <td>7</td>\n",
              "      <td>56</td>\n",
              "      <td>121</td>\n",
              "      <td>59</td>\n",
              "      <td>1123</td>\n",
              "      <td>227345</td>\n",
              "      <td>115380</td>\n",
              "      <td>272977</td>\n",
              "    </tr>\n",
              "    <tr>\n",
              "      <th>top</th>\n",
              "      <td>Calendar</td>\n",
              "      <td>Public Works, Transportation &amp; Commerce</td>\n",
              "      <td>DPH Public Health</td>\n",
              "      <td>SEIU, Local 1021, Misc</td>\n",
              "      <td>Nursing</td>\n",
              "      <td>Transit Operator</td>\n",
              "      <td>$0.0</td>\n",
              "      <td>$0.0</td>\n",
              "      <td>$0.0</td>\n",
              "    </tr>\n",
              "    <tr>\n",
              "      <th>freq</th>\n",
              "      <td>325445</td>\n",
              "      <td>143163</td>\n",
              "      <td>59048</td>\n",
              "      <td>112750</td>\n",
              "      <td>55690</td>\n",
              "      <td>36209</td>\n",
              "      <td>171690</td>\n",
              "      <td>95338</td>\n",
              "      <td>99592</td>\n",
              "    </tr>\n",
              "  </tbody>\n",
              "</table>\n",
              "</div>"
            ],
            "text/plain": [
              "       Year Type  ... Other Benefits\n",
              "count     567103  ...         567103\n",
              "unique         2  ...         272977\n",
              "top     Calendar  ...           $0.0\n",
              "freq      325445  ...          99592\n",
              "\n",
              "[4 rows x 9 columns]"
            ]
          },
          "metadata": {
            "tags": []
          },
          "execution_count": 200
        }
      ]
    },
    {
      "cell_type": "markdown",
      "metadata": {
        "id": "uaGHCRcrG3Eq"
      },
      "source": [
        "### Visualize and Preprocess the data\n",
        "\n"
      ]
    },
    {
      "cell_type": "code",
      "metadata": {
        "colab": {
          "base_uri": "https://localhost:8080/"
        },
        "id": "ot-WhVdua2yV",
        "outputId": "f811ab4d-0388-4710-e5d0-ac3e56c8118a"
      },
      "source": [
        "#Checking Null values\n",
        "df_train.isnull().sum()"
      ],
      "execution_count": 201,
      "outputs": [
        {
          "output_type": "execute_result",
          "data": {
            "text/plain": [
              "Year Type                   0\n",
              "Year                        0\n",
              "Organization Group          0\n",
              "Department             295065\n",
              "Union                     345\n",
              "Job Family                  0\n",
              "Job                         3\n",
              "Employee Identifier         0\n",
              "Retirement                  0\n",
              "Health and Dental           0\n",
              "Other Benefits              0\n",
              "Total Compensation          0\n",
              "dtype: int64"
            ]
          },
          "metadata": {
            "tags": []
          },
          "execution_count": 201
        }
      ]
    },
    {
      "cell_type": "code",
      "metadata": {
        "id": "HlWKbyCRSNla"
      },
      "source": [
        "#Too much null values in Department \n",
        "\n",
        "#Dropping department column\n",
        "df_train.drop('Department',axis=1,inplace=True)\n",
        "df_test.drop('Department',axis=1,inplace=True)\n",
        "\n",
        "#For null values in Job and Union column - calling treat_null_values() ftn\n",
        "treat_null_values(df_train, 'ffill')\n",
        "treat_null_values(df_test, 'ffill')\n",
        "\n"
      ],
      "execution_count": 202,
      "outputs": []
    },
    {
      "cell_type": "code",
      "metadata": {
        "colab": {
          "base_uri": "https://localhost:8080/"
        },
        "id": "mk4oSRbhREev",
        "outputId": "86abbc6e-256b-4c34-96ab-fc43accd7314"
      },
      "source": [
        "#Checking null values\n",
        "df_train.isnull().sum()"
      ],
      "execution_count": 203,
      "outputs": [
        {
          "output_type": "execute_result",
          "data": {
            "text/plain": [
              "Year Type              0\n",
              "Year                   0\n",
              "Organization Group     0\n",
              "Union                  0\n",
              "Job Family             0\n",
              "Job                    0\n",
              "Employee Identifier    0\n",
              "Retirement             0\n",
              "Health and Dental      0\n",
              "Other Benefits         0\n",
              "Total Compensation     0\n",
              "dtype: int64"
            ]
          },
          "metadata": {
            "tags": []
          },
          "execution_count": 203
        }
      ]
    },
    {
      "cell_type": "code",
      "metadata": {
        "colab": {
          "base_uri": "https://localhost:8080/"
        },
        "id": "_nYTTbP_G3Er",
        "outputId": "1f083416-7aef-4edc-ce55-dd1e8106889f"
      },
      "source": [
        "# Columns with compensations stored in form of strings. We need to clean it and convert this to numeric. \n",
        "# Calling the clean_dollar() to do it.\n",
        "\n",
        "clean_dollar(df_train, 'Retirement')\n",
        "clean_dollar(df_train, 'Health and Dental')\n",
        "clean_dollar(df_train, 'Other Benefits')\n",
        "\n",
        "clean_dollar(df_test, 'Retirement')\n",
        "clean_dollar(df_test, 'Health and Dental')\n",
        "clean_dollar(df_test, 'Other Benefits')\n"
      ],
      "execution_count": 204,
      "outputs": [
        {
          "output_type": "execute_result",
          "data": {
            "text/plain": [
              "0            0.00\n",
              "1          753.13\n",
              "2         4464.84\n",
              "3         1787.63\n",
              "4         2015.35\n",
              "           ...   \n",
              "177215    6267.86\n",
              "177216    2216.86\n",
              "177217    2175.79\n",
              "177218    3900.18\n",
              "177219    5272.32\n",
              "Name: Other Benefits, Length: 177220, dtype: float64"
            ]
          },
          "metadata": {
            "tags": []
          },
          "execution_count": 204
        }
      ]
    },
    {
      "cell_type": "code",
      "metadata": {
        "colab": {
          "base_uri": "https://localhost:8080/",
          "height": 307
        },
        "id": "doNGIsUhwiah",
        "outputId": "97cc0168-1074-4197-fb0b-8664b740dcb7"
      },
      "source": [
        "#Target Variable\n",
        "sns.distplot(df_train['Total Compensation'])\n",
        "\n",
        "#Right Skewed\n",
        "#Some values are below zero "
      ],
      "execution_count": 205,
      "outputs": [
        {
          "output_type": "execute_result",
          "data": {
            "text/plain": [
              "<matplotlib.axes._subplots.AxesSubplot at 0x7f14a8fc4750>"
            ]
          },
          "metadata": {
            "tags": []
          },
          "execution_count": 205
        },
        {
          "output_type": "display_data",
          "data": {
            "image/png": "[encoded data removed]",
            "text/plain": [
              "<Figure size 432x288 with 1 Axes>"
            ]
          },
          "metadata": {
            "tags": [],
            "needs_background": "light"
          }
        }
      ]
    },
    {
      "cell_type": "code",
      "metadata": {
        "colab": {
          "base_uri": "https://localhost:8080/",
          "height": 418
        },
        "id": "CRu_4tmrw5w4",
        "outputId": "86e1886d-4479-4d3b-b312-80d8604007df"
      },
      "source": [
        "#Organization Group\n",
        "sns.countplot(y=df_train['Organization Group'])\n",
        "\n",
        "print(df_train['Organization Group'].value_counts())"
      ],
      "execution_count": 206,
      "outputs": [
        {
          "output_type": "stream",
          "text": [
            "Public Works, Transportation & Commerce     143163\n",
            "General City Responsibilities               115950\n",
            "Community Health                             98325\n",
            "Public Protection                            86872\n",
            "General Administration & Finance             41322\n",
            "Human Welfare & Neighborhood Development     40839\n",
            "Culture & Recreation                         40632\n",
            "Name: Organization Group, dtype: int64\n"
          ],
          "name": "stdout"
        },
        {
          "output_type": "display_data",
          "data": {
            "image/png": "[encoded data removed]",
            "text/plain": [
              "<Figure size 432x288 with 1 Axes>"
            ]
          },
          "metadata": {
            "tags": [],
            "needs_background": "light"
          }
        }
      ]
    },
    {
      "cell_type": "code",
      "metadata": {
        "colab": {
          "base_uri": "https://localhost:8080/",
          "height": 279
        },
        "id": "f7YHkJdYqbba",
        "outputId": "ccd128d7-3bcf-45c8-dc1b-5b0f57b043d9"
      },
      "source": [
        "#Check outliers by calling the check_outliers(df, col, cat) function.\n",
        "#col - cont (y-axis)\n",
        "#cat - wrt outliers are shown (x-axis)\n",
        "\n",
        "#Outlier check total comoensation wrt Year\n",
        "check_outliers(df_train, 'Total Compensation', 'Year')"
      ],
      "execution_count": 207,
      "outputs": [
        {
          "output_type": "display_data",
          "data": {
            "image/png": "[encoded data removed]",
            "text/plain": [
              "<Figure size 432x288 with 1 Axes>"
            ]
          },
          "metadata": {
            "tags": [],
            "needs_background": "light"
          }
        }
      ]
    },
    {
      "cell_type": "code",
      "metadata": {
        "colab": {
          "base_uri": "https://localhost:8080/",
          "height": 279
        },
        "id": "kpuDwyv_rQFq",
        "outputId": "3f9d961f-60eb-4ca9-f51a-fcf73af5f9ae"
      },
      "source": [
        "#Outlier check total comoensation wrt Year Type\n",
        "check_outliers(df_train, 'Total Compensation', 'Year Type')"
      ],
      "execution_count": 208,
      "outputs": [
        {
          "output_type": "display_data",
          "data": {
            "image/png": "[encoded data removed]",
            "text/plain": [
              "<Figure size 432x288 with 1 Axes>"
            ]
          },
          "metadata": {
            "tags": [],
            "needs_background": "light"
          }
        }
      ]
    },
    {
      "cell_type": "code",
      "metadata": {
        "id": "D2J52ssmG3Er",
        "colab": {
          "base_uri": "https://localhost:8080/",
          "height": 879
        },
        "outputId": "9c810a26-55ea-40f3-e4a6-f2f6ab20f29a"
      },
      "source": [
        "# Distribution of numerical columns\n",
        "\n",
        "data_distribution = df_train.hist(figsize=(15,15))\n",
        "plt.show();\n"
      ],
      "execution_count": 209,
      "outputs": [
        {
          "output_type": "display_data",
          "data": {
            "image/png": "[encoded data removed]",
            "text/plain": [
              "<Figure size 1080x1080 with 6 Axes>"
            ]
          },
          "metadata": {
            "tags": [],
            "needs_background": "light"
          }
        }
      ]
    },
    {
      "cell_type": "code",
      "metadata": {
        "id": "YFWWiMCvG3Es"
      },
      "source": [
        "# Before we proceed with the model fitting, we need to get rid of the categorical columns.\n",
        "#Calling the encode_category() with the list of columns and the method of encoding to do the same.\n",
        "\n",
        "label_encoder=LabelEncoder()\n",
        "hot_encoder = LabelBinarizer()\n",
        "\n",
        "col =['Year Type', 'Organization Group', 'Job Family', 'Job', 'Union']\n",
        "for i in col:\n",
        "  encode_category(df_train, label_encoder, i, \"Label\")\n",
        "  encode_category(df_test, label_encoder, i, \"Label\")\n"
      ],
      "execution_count": 210,
      "outputs": []
    },
    {
      "cell_type": "code",
      "metadata": {
        "colab": {
          "base_uri": "https://localhost:8080/",
          "height": 804
        },
        "id": "uPL_t23yyOcf",
        "outputId": "4da0642c-1c44-4fd1-a279-0da2cc3f4244"
      },
      "source": [
        "# correlation\n",
        "corr = df_train.corr()\n",
        "\n",
        "plt.figure(figsize=(15,12))\n",
        "plt.title('Correlation Matrix')\n",
        "sns.heatmap(corr,square=True,annot = True)\n",
        "plt.show();\n",
        "\n",
        "# Not including - Year Type, Year, Job Family, Job"
      ],
      "execution_count": 211,
      "outputs": [
        {
          "output_type": "display_data",
          "data": {
            "image/png": "[encoded data removed]",
            "text/plain": [
              "<Figure size 1080x864 with 2 Axes>"
            ]
          },
          "metadata": {
            "tags": [],
            "needs_background": "light"
          }
        }
      ]
    },
    {
      "cell_type": "markdown",
      "metadata": {
        "id": "h-YInTSnG3Et"
      },
      "source": [
        "### Model building\n"
      ]
    },
    {
      "cell_type": "code",
      "metadata": {
        "colab": {
          "base_uri": "https://localhost:8080/"
        },
        "id": "Db5PW3d4G3Eu",
        "outputId": "aec6a5fe-deb2-4d1e-9c56-f16911cc4a8b"
      },
      "source": [
        "#Splitting training set\n",
        "\n",
        "X=df_train[['Organization Group','Union','Employee Identifier', 'Retirement', 'Health and Dental', 'Other Benefits']]\n",
        "y=df_train['Total Compensation']\n",
        "\n",
        "print(X.head())\n",
        "print(y.head())\n",
        "\n",
        "\n",
        "#we split 75% of the data to training set while 25% of the data to validation \n",
        "X_train, X_valid, y_train, y_valid = train_test_split(X, y, test_size=0.25, random_state=0)\n",
        "\n",
        "#X_train, X_valid shape\n",
        "print(X_train.shape)\n",
        "print(X_valid.shape)"
      ],
      "execution_count": 212,
      "outputs": [
        {
          "output_type": "stream",
          "text": [
            "   Organization Group  Union  ...  Health and Dental  Other Benefits\n",
            "0                   0     78  ...           13527.66            0.00\n",
            "1                   6     90  ...            3995.56          875.27\n",
            "2                   3     93  ...               0.00            0.00\n",
            "3                   0     90  ...           10680.55         4400.24\n",
            "4                   0     90  ...           12464.61         5562.09\n",
            "\n",
            "[5 rows x 6 columns]\n",
            "0         0.00\n",
            "1     16176.35\n",
            "2       248.30\n",
            "3     80020.86\n",
            "4    101207.38\n",
            "Name: Total Compensation, dtype: float64\n",
            "(425327, 6)\n",
            "(141776, 6)\n"
          ],
          "name": "stdout"
        }
      ]
    },
    {
      "cell_type": "code",
      "metadata": {
        "id": "EZmSSx6rtyia"
      },
      "source": [
        "# Fitting Polynomial Feature to the dataset \n",
        "\n",
        "poly = PolynomialFeatures(degree = 2) \n",
        "X_train_poly = poly.fit_transform(X_train) \n",
        "X_valid_poly=poly.transform(X_valid)"
      ],
      "execution_count": 213,
      "outputs": []
    },
    {
      "cell_type": "code",
      "metadata": {
        "colab": {
          "base_uri": "https://localhost:8080/"
        },
        "id": "iqAP0PR5Ispx",
        "outputId": "e44d5367-ef88-4b04-cf29-08f847dda859"
      },
      "source": [
        "# fit the model\n",
        "linreg = LinearRegression()  \n",
        "\n",
        "#fit_model\n",
        "linreg.fit(X_train_poly, y_train)   \n",
        "y_pred = linreg.predict(X_valid_poly)\n",
        "    \n",
        "#RMSE\n",
        "rmse=np.sqrt(mean_squared_error(y_valid,y_pred))\n",
        "print(rmse)\n",
        "\n",
        "# R-squared calculation\n",
        "r2 = r2_score(y_valid,y_pred)\n",
        "print(r2)\n"
      ],
      "execution_count": 214,
      "outputs": [
        {
          "output_type": "stream",
          "text": [
            "15911.975321445298\n",
            "0.9540697324732619\n"
          ],
          "name": "stdout"
        }
      ]
    },
    {
      "cell_type": "markdown",
      "metadata": {
        "id": "krbkXstOG3Eu"
      },
      "source": [
        "### Prediction on the test data and creating the submission file.\n",
        "\n"
      ]
    },
    {
      "cell_type": "code",
      "metadata": {
        "colab": {
          "base_uri": "https://localhost:8080/"
        },
        "id": "USGhxmwPG3Ev",
        "outputId": "c53cd619-a03a-4097-d7cd-0c486e433a06"
      },
      "source": [
        "#the Id column in a separate variable : test_id\n",
        "test_id = df_test['Id']\n",
        "df_test.drop(['Id'], axis=1, inplace=True) \n",
        "\n",
        "#Test data shape and columns names\n",
        "print(df_test.shape)\n",
        "print(df_test.columns)"
      ],
      "execution_count": 215,
      "outputs": [
        {
          "output_type": "stream",
          "text": [
            "(177220, 10)\n",
            "Index(['Year Type', 'Year', 'Organization Group', 'Union', 'Job Family', 'Job',\n",
            "       'Employee Identifier', 'Retirement', 'Health and Dental',\n",
            "       'Other Benefits'],\n",
            "      dtype='object')\n"
          ],
          "name": "stdout"
        }
      ]
    },
    {
      "cell_type": "code",
      "metadata": {
        "colab": {
          "base_uri": "https://localhost:8080/"
        },
        "id": "z3PXMQ03I_NY",
        "outputId": "dd3f8bbf-b677-4ef6-b53b-c1ad7bb1dc9c"
      },
      "source": [
        "#Features selected from test data\n",
        "X_test=df_test[['Organization Group','Union','Employee Identifier', 'Retirement', 'Health and Dental', 'Other Benefits']]\n",
        "\n",
        "# transforming Polynomial Feature to the test data \n",
        "X_test_poly = poly.transform(X_test) \n",
        "\n",
        "#make prediction : Total Compensation\n",
        "ytest_pred=linreg.predict(X_test_poly)\n",
        "\n",
        "#Making df for submission\n",
        "subm=pd.DataFrame({\"Id\": test_id, \"Total Compensation\": ytest_pred})\n",
        "print(subm.head())"
      ],
      "execution_count": 216,
      "outputs": [
        {
          "output_type": "stream",
          "text": [
            "   Id  Total Compensation\n",
            "0   0        11069.115278\n",
            "1   1       155296.675666\n",
            "2   2        94999.987703\n",
            "3   3        15038.811338\n",
            "4   4        41099.268997\n"
          ],
          "name": "stdout"
        }
      ]
    },
    {
      "cell_type": "code",
      "metadata": {
        "id": "2ug2RtP9JPId"
      },
      "source": [
        "# To CSV for submission\n",
        "subm.to_csv('submission_1.csv',index=False)\n",
        "\n",
        "#from google.colab import files\n",
        "#files.download('submission_1.csv') "
      ],
      "execution_count": 217,
      "outputs": []
    }
  ]
}